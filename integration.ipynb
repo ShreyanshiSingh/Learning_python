{
 "cells": [
  {
   "cell_type": "code",
   "execution_count": 1,
   "metadata": {},
   "outputs": [
    {
     "name": "stdout",
     "output_type": "stream",
     "text": [
      " I (Simpson)                 =  0.11392889006168853\n",
      " I (True)                    =  0.11392894125692266\n",
      "|I (Simpson) - I (True)|     =  5.119523412144833e-08\n",
      "\n"
     ]
    }
   ],
   "source": [
    "import numpy as np\n",
    "\n",
    "def function(x):\n",
    "    return np.power(x,3) * np.exp(-x)\n",
    "\n",
    "\n",
    "def Simpson(function, a, b, n):\n",
    "\n",
    "    h = (b-a)/n\n",
    "    sodd = seven = 0.0\n",
    "    for i in range(2,n-1,2):\n",
    "        #print(\"Even\", i)\n",
    "        seven = seven + function(a + i*h) # odd-index sum\n",
    "    for i in range(1,n,2):\n",
    "        #print(\"Odd\", i)\n",
    "        sodd = sodd + function(a + i*h) # even-index sum\n",
    "\n",
    "    return (h/3)*(function(a) + 4*sodd + 2*seven + function(b))\n",
    "\n",
    "\n",
    "a = 0.0; b = 1.0; n = 30\n",
    "I = Simpson(function,a,b,n)\n",
    "I2 = 6.0 - 16.0/np.exp(1.0) \n",
    "print(\" I (Simpson)                 = \", I)\n",
    "print(\" I (True)                    = \", I2)\n",
    "print(\"|I (Simpson) - I (True)|     = \", np.abs(I - I2))\n",
    "print('')\n",
    "e\n"
   ]
  },
  {
   "cell_type": "code",
   "execution_count": 2,
   "metadata": {},
   "outputs": [
    {
     "name": "stdout",
     "output_type": "stream",
     "text": [
      " I (Trapezoidal)             =  0.1139970798881186\n",
      " I (True)                    =  0.11392894125692266\n",
      "|I (Trapezoidal) - I (True)| =  6.81386311959381e-05\n",
      "\n"
     ]
    }
   ],
   "source": [
    "import numpy as np\n",
    "\n",
    "def function(x):\n",
    "    return np.power(x,3) * np.exp(-x)\n",
    "\n",
    "\n",
    "def Trapezoidal(function, a, b, n):\n",
    "\n",
    "   h = (b-a)/n\n",
    "   s = 0.0\n",
    "   for i in range(1,n):\n",
    "       #print(i)\n",
    "       s = s + function(a+i*h)\n",
    "   return (h/2)*(function(a) + 2.0*s + function(b))\n",
    "\n",
    "# main\n",
    "a = 0.0; b = 1.0; n = 30\n",
    "I = Trapezoidal(function,a,b,n)\n",
    "I2 = 6.0 - 16.0/np.exp(1.0) \n",
    "print(\" I (Trapezoidal)             = \", I)\n",
    "print(\" I (True)                    = \", I2)\n",
    "print(\"|I (Trapezoidal) - I (True)| = \", np.abs(I - I2))\n",
    "print('')\n",
    "\n"
   ]
  },
  {
   "cell_type": "code",
   "execution_count": 3,
   "metadata": {},
   "outputs": [
    {
     "name": "stdout",
     "output_type": "stream",
     "text": [
      " Iteration                              =  11\n",
      " I (Trapizoidal Adapative)              =  0.11392895587513915\n",
      " I (True)                               =  0.11392894125692266\n",
      "|I (Trapizoidal Adapative) - I (True)|  =  1.4618216498396563e-08\n",
      " Iteration                              =  23\n",
      " Iteration                              =  19\n",
      " Iteration                              =  19\n",
      " Iteration                              =  18\n",
      " Iteration                              =  18\n",
      " Iteration                              =  18\n",
      " Iteration                              =  18\n",
      " Iteration                              =  18\n",
      " Iteration                              =  18\n",
      " Iteration                              =  17\n"
     ]
    }
   ],
   "source": [
    "import numpy as np\n",
    "\n",
    "def function(x):\n",
    "    return np.power(x,3) * np.exp(-x)\n",
    "\n",
    "\n",
    "def TrapizoidalAdaptive(function, a, b, eps = 1e-6):\n",
    "\n",
    "    kmax = 30 # max. no. of step halving iterations\n",
    "    h = b-a; n = 1\n",
    "    t0 = 0.5*h*(function(a) + function(b)) # initial approximation\n",
    "\n",
    "    for k in range(1,kmax+1):   # step halving loop\n",
    "        sumf = 0.0\n",
    "        for i in range(1,n+1):\n",
    "            sumf = sumf + function(a+(i-0.5)*h)\n",
    " \n",
    "        t = 0.5*(t0 + h*sumf)   # new approximation\n",
    "        \n",
    "        if (k > 1):             # convergence chece\n",
    "            if (np.fabs(t-t0) <= eps*np.fabs(t)): break\n",
    "            if (np.fabs(t) <= eps and np.fabs(t) <= np.fabs(t-t0)): break # integral ~= 0\n",
    "        \n",
    "        h = h*0.5; n = n*2; t0 = t\n",
    "\n",
    "    if (k >= kmax): print(\"TrapizoidalAdaptive: max. no. of iterations exceeded !\")\n",
    "    print(\" Iteration                              = \", k)\n",
    "    return t\n",
    "\n",
    "\n",
    "xmin = 0.0; xmax = 1.0; eps = 1e-6\n",
    "\n",
    "I = TrapizoidalAdaptive(function,xmin,xmax,eps)\n",
    "I2 = 6.0 - 16.0/np.exp(1.0)\n",
    "print(\" I (Trapizoidal Adapative)              = \", I)\n",
    "print(\" I (True)                               = \", I2)\n",
    "print(\"|I (Trapizoidal Adapative) - I (True)|  = \", np.abs(I - I2))\n",
    "\n",
    "xmin = 0.0; xmax = 1.0;\n",
    "epss = np.linspace(1.0e-14,1.0e-10,10)\n",
    "Ts=[]\n",
    "for e in epss:\n",
    "    Ts.append(TrapizoidalAdaptive(function,xmin,xmax,e))\n"
   ]
  },
  {
   "cell_type": "code",
   "execution_count": 4,
   "metadata": {},
   "outputs": [
    {
     "name": "stdout",
     "output_type": "stream",
     "text": [
      "0.07208225874776135 0.11185746183795982\n",
      "0.0019180142280423307 0.11377547606600215\n",
      "0.00014346897097933242 0.11391894503698148\n",
      "9.365010991357892e-06 0.11392831004797284\n",
      "5.916571985398189e-07 0.11392890170517138\n",
      "3.707818396758711e-08 0.11392893878335535\n",
      "2.3189447861948764e-09 0.11392894110230013\n",
      "1.4495842026729377e-10 0.11392894124725855\n",
      " Iteration                          =  9\n",
      " I (Simpson Adapative)              =  0.11392894124725855\n",
      " I (True)                           =  0.11392894125692266\n",
      "|I (Simpson Adapative) - I (True)|  =  9.664102851303369e-12\n"
     ]
    }
   ],
   "source": [
    "\n",
    "import numpy as np\n",
    "\n",
    "def function(x):\n",
    "    return np.power(x,3) * np.exp(-x)\n",
    "\n",
    "def SimpsonAdaptive(Function, a, b, eps = 1e-6):\n",
    "\n",
    "    kmax = 30\n",
    "    h = b-a; n = 1\n",
    "    s0 = t0 = 0.5*h*(function(a) + function(b))\n",
    "    \n",
    "    for k in range(1,kmax+1):\n",
    "        sumf = 0.0\n",
    "        for i in range(1,n+1):\n",
    "            sumf = sumf + function(a+(i-0.5)*h)\n",
    "        t = 0.5*(t0 + h*sumf)\n",
    "        s = (4.0*t - t0)/3.0\n",
    "        if (k > 1):\n",
    "            print(np.fabs(s-s0), np.fabs(s))\n",
    "            if (np.fabs(s-s0) <= eps*np.fabs(s)): break\n",
    "            if (np.fabs(s) <= eps and np.fabs(s) <= np.fabs(s-s0)): break # integral ~= 0            \n",
    "            h = h*0.5\n",
    "            n = n*2\n",
    "            s0 = s\n",
    "            t0 = t\n",
    "\n",
    "    if (k >= kmax): print(\"SimpsonAdaptive: max. no. of iterations exceeded!\")\n",
    "    print(\" Iteration                          = \", k)\n",
    "    return s\n",
    "\n",
    "# main\n",
    "a = 0.0; b = 1.0; eps = 1e-8\n",
    "I = SimpsonAdaptive(function,a,b,eps)\n",
    "I2 = 6.0 - 16.0/np.exp(1.0)\n",
    "print(\" I (Simpson Adapative)              = \", I)\n",
    "print(\" I (True)                           = \", I2)\n",
    "print(\"|I (Simpson Adapative) - I (True)|  = \", np.abs(I - I2))"
   ]
  },
  {
   "cell_type": "code",
   "execution_count": 5,
   "metadata": {},
   "outputs": [
    {
     "data": {
      "image/png": "[encoded data removed]",
      "text/plain": [
       "<Figure size 432x288 with 1 Axes>"
      ]
     },
     "metadata": {
      "needs_background": "light"
     },
     "output_type": "display_data"
    }
   ],
   "source": [
    "import numpy as np\n",
    "import matplotlib.pyplot as plt\n",
    "lm=0.5\n",
    "N=1000   #sampling size of poisson \n",
    "Poisson=[]\n",
    "for i in range(N):\n",
    "  k=0\n",
    "  p=np.random.uniform(0,1,1)\n",
    "  while p>np.exp(-lm):         # refer cpnotes20march2022_last page for theory used here\n",
    "    p=p*np.random.uniform(0,1,1)\n",
    "    k+=1               \n",
    "  Poisson.append(k)\n",
    "plt.hist(Poisson)\n",
    "plt.show()"
   ]
  },
  {
   "cell_type": "code",
   "execution_count": null,
   "metadata": {},
   "outputs": [],
   "source": [
    "  "
   ]
  }
 ],
 "metadata": {
  "kernelspec": {
   "display_name": "Python 3 (ipykernel)",
   "language": "python",
   "name": "python3"
  },
  "language_info": {
   "codemirror_mode": {
    "name": "ipython",
    "version": 3
   },
   "file_extension": ".py",
   "mimetype": "text/x-python",
   "name": "python",
   "nbconvert_exporter": "python",
   "pygments_lexer": "ipython3",
   "version": "3.9.13"
  }
 },
 "nbformat": 4,
 "nbformat_minor": 4
}
